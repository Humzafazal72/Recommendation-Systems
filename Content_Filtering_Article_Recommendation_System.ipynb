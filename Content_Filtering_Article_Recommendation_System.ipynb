{
  "metadata": {
    "kernelspec": {
      "language": "python",
      "display_name": "Python 3",
      "name": "python3"
    },
    "language_info": {
      "name": "python",
      "version": "3.10.13",
      "mimetype": "text/x-python",
      "codemirror_mode": {
        "name": "ipython",
        "version": 3
      },
      "pygments_lexer": "ipython3",
      "nbconvert_exporter": "python",
      "file_extension": ".py"
    },
    "kaggle": {
      "accelerator": "none",
      "dataSources": [
        {
          "sourceId": 4247346,
          "sourceType": "datasetVersion",
          "datasetId": 2502835
        }
      ],
      "dockerImageVersionId": 30646,
      "isInternetEnabled": true,
      "language": "python",
      "sourceType": "notebook",
      "isGpuEnabled": false
    },
    "colab": {
      "name": "article Recommendation system",
      "provenance": [],
      "include_colab_link": true
    }
  },
  "nbformat_minor": 0,
  "nbformat": 4,
  "cells": [
    {
      "cell_type": "markdown",
      "metadata": {
        "id": "view-in-github",
        "colab_type": "text"
      },
      "source": [
        "<a href=\"https://colab.research.google.com/github/Humzafazal72/Recommendation-Systems/blob/main/Content_Filtering_Article_Recommendation_System.ipynb\" target=\"_parent\"><img src=\"https://colab.research.google.com/assets/colab-badge.svg\" alt=\"Open In Colab\"/></a>"
      ]
    },
    {
      "source": [
        "\n",
        "# IMPORTANT: RUN THIS CELL IN ORDER TO IMPORT YOUR KAGGLE DATA SOURCES\n",
        "# TO THE CORRECT LOCATION (/kaggle/input) IN YOUR NOTEBOOK,\n",
        "# THEN FEEL FREE TO DELETE THIS CELL.\n",
        "# NOTE: THIS NOTEBOOK ENVIRONMENT DIFFERS FROM KAGGLE'S PYTHON\n",
        "# ENVIRONMENT SO THERE MAY BE MISSING LIBRARIES USED BY YOUR\n",
        "# NOTEBOOK.\n",
        "\n",
        "import os\n",
        "import sys\n",
        "from tempfile import NamedTemporaryFile\n",
        "from urllib.request import urlopen\n",
        "from urllib.parse import unquote, urlparse\n",
        "from urllib.error import HTTPError\n",
        "from zipfile import ZipFile\n",
        "import tarfile\n",
        "import shutil\n",
        "\n",
        "CHUNK_SIZE = 40960\n",
        "DATA_SOURCE_MAPPING = 'article-recommendation-system:https%3A%2F%2Fstorage.googleapis.com%2Fkaggle-data-sets%2F2502835%2F4247346%2Fbundle%2Farchive.zip%3FX-Goog-Algorithm%3DGOOG4-RSA-SHA256%26X-Goog-Credential%3Dgcp-kaggle-com%2540kaggle-161607.iam.gserviceaccount.com%252F20240227%252Fauto%252Fstorage%252Fgoog4_request%26X-Goog-Date%3D20240227T151651Z%26X-Goog-Expires%3D259200%26X-Goog-SignedHeaders%3Dhost%26X-Goog-Signature%3D3676d2d95a2cc1012ed7c70ca53ef859df56d54f2635a363546b88a9708e0ee9d21319125895628bb6163cbde228d8e54a691b2877e61ece1ead8f5b1856bdfe60fe2d3b73de6a636fd3d801c8358ca25ba7d469b186e379752777ec2ca2cf0119aed426c6d43850793fd99ea65f76c15f89987e2db74e9a051ee91f640bca124ec036435b1bd9dfc54764a7812942be7aed905da9adc2205bacf3d48cfa2a0ca9a6064c80cf15f9384c168da22426a0ce86edbbc55885ad8eb70524a7aff0dbdf89028431f00b56ce7dc922cb345f26a92342d0231720942186657d151c85b90b21e0e4a3ec398b8a7b7ee3a447f6dbf8cf6b838ce83dc3387476af7add934c'\n",
        "\n",
        "KAGGLE_INPUT_PATH='/kaggle/input'\n",
        "KAGGLE_WORKING_PATH='/kaggle/working'\n",
        "KAGGLE_SYMLINK='kaggle'\n",
        "\n",
        "!umount /kaggle/input/ 2> /dev/null\n",
        "shutil.rmtree('/kaggle/input', ignore_errors=True)\n",
        "os.makedirs(KAGGLE_INPUT_PATH, 0o777, exist_ok=True)\n",
        "os.makedirs(KAGGLE_WORKING_PATH, 0o777, exist_ok=True)\n",
        "\n",
        "try:\n",
        "  os.symlink(KAGGLE_INPUT_PATH, os.path.join(\"..\", 'input'), target_is_directory=True)\n",
        "except FileExistsError:\n",
        "  pass\n",
        "try:\n",
        "  os.symlink(KAGGLE_WORKING_PATH, os.path.join(\"..\", 'working'), target_is_directory=True)\n",
        "except FileExistsError:\n",
        "  pass\n",
        "\n",
        "for data_source_mapping in DATA_SOURCE_MAPPING.split(','):\n",
        "    directory, download_url_encoded = data_source_mapping.split(':')\n",
        "    download_url = unquote(download_url_encoded)\n",
        "    filename = urlparse(download_url).path\n",
        "    destination_path = os.path.join(KAGGLE_INPUT_PATH, directory)\n",
        "    try:\n",
        "        with urlopen(download_url) as fileres, NamedTemporaryFile() as tfile:\n",
        "            total_length = fileres.headers['content-length']\n",
        "            print(f'Downloading {directory}, {total_length} bytes compressed')\n",
        "            dl = 0\n",
        "            data = fileres.read(CHUNK_SIZE)\n",
        "            while len(data) > 0:\n",
        "                dl += len(data)\n",
        "                tfile.write(data)\n",
        "                done = int(50 * dl / int(total_length))\n",
        "                sys.stdout.write(f\"\\r[{'=' * done}{' ' * (50-done)}] {dl} bytes downloaded\")\n",
        "                sys.stdout.flush()\n",
        "                data = fileres.read(CHUNK_SIZE)\n",
        "            if filename.endswith('.zip'):\n",
        "              with ZipFile(tfile) as zfile:\n",
        "                zfile.extractall(destination_path)\n",
        "            else:\n",
        "              with tarfile.open(tfile.name) as tarfile:\n",
        "                tarfile.extractall(destination_path)\n",
        "            print(f'\\nDownloaded and uncompressed: {directory}')\n",
        "    except HTTPError as e:\n",
        "        print(f'Failed to load (likely expired) {download_url} to path {destination_path}')\n",
        "        continue\n",
        "    except OSError as e:\n",
        "        print(f'Failed to load {download_url} to path {destination_path}')\n",
        "        continue\n",
        "\n",
        "print('Data source import complete.')\n"
      ],
      "metadata": {
        "id": "ehWHzgtvKYvK"
      },
      "cell_type": "code",
      "outputs": [],
      "execution_count": null
    },
    {
      "cell_type": "code",
      "source": [
        "import numpy as np\n",
        "import pandas as pd\n",
        "from nltk.corpus import stopwords\n",
        "import joblib\n",
        "import string\n",
        "import nltk\n",
        "from nltk.stem import LancasterStemmer\n",
        "from sklearn.feature_extraction.text import CountVectorizer\n",
        "from sklearn.metrics.pairwise import cosine_similarity"
      ],
      "metadata": {
        "_uuid": "8f2839f25d086af736a60e9eeb907d3b93b6e0e5",
        "_cell_guid": "b1076dfc-b9ad-4769-8c92-a6c4dae69d19",
        "execution": {
          "iopub.status.busy": "2024-02-23T04:01:03.295917Z",
          "iopub.execute_input": "2024-02-23T04:01:03.296479Z",
          "iopub.status.idle": "2024-02-23T04:01:06.55088Z",
          "shell.execute_reply.started": "2024-02-23T04:01:03.29645Z",
          "shell.execute_reply": "2024-02-23T04:01:06.549675Z"
        },
        "trusted": true,
        "id": "r6vCq5YKKYvO"
      },
      "execution_count": null,
      "outputs": []
    },
    {
      "cell_type": "code",
      "source": [
        "nltk.download('stopwords')\n",
        "nltk.download('punkt')"
      ],
      "metadata": {
        "execution": {
          "iopub.status.busy": "2024-02-23T04:01:06.55322Z",
          "iopub.execute_input": "2024-02-23T04:01:06.553632Z",
          "iopub.status.idle": "2024-02-23T04:01:06.868782Z",
          "shell.execute_reply.started": "2024-02-23T04:01:06.553607Z",
          "shell.execute_reply": "2024-02-23T04:01:06.867302Z"
        },
        "trusted": true,
        "id": "wfRCslwCKYvP",
        "outputId": "249a605c-3702-49d3-8c96-69073fe96eea"
      },
      "execution_count": null,
      "outputs": [
        {
          "name": "stdout",
          "text": "[nltk_data] Downloading package stopwords to /usr/share/nltk_data...\n[nltk_data]   Package stopwords is already up-to-date!\n[nltk_data] Downloading package punkt to /usr/share/nltk_data...\n[nltk_data]   Package punkt is already up-to-date!\n",
          "output_type": "stream"
        },
        {
          "execution_count": 2,
          "output_type": "execute_result",
          "data": {
            "text/plain": "True"
          },
          "metadata": {}
        }
      ]
    },
    {
      "cell_type": "code",
      "source": [
        "ds=pd.read_csv('/kaggle/input/article-recommendation-system/articles.csv',encoding='latin1')"
      ],
      "metadata": {
        "execution": {
          "iopub.status.busy": "2024-02-23T04:01:06.874249Z",
          "iopub.execute_input": "2024-02-23T04:01:06.874589Z",
          "iopub.status.idle": "2024-02-23T04:01:06.92013Z",
          "shell.execute_reply.started": "2024-02-23T04:01:06.874563Z",
          "shell.execute_reply": "2024-02-23T04:01:06.918991Z"
        },
        "trusted": true,
        "id": "dcK5j_lrKYvQ"
      },
      "execution_count": null,
      "outputs": []
    },
    {
      "cell_type": "code",
      "source": [
        "ds.drop_duplicates()"
      ],
      "metadata": {
        "execution": {
          "iopub.status.busy": "2024-02-23T04:01:17.8419Z",
          "iopub.execute_input": "2024-02-23T04:01:17.842313Z",
          "iopub.status.idle": "2024-02-23T04:01:17.872201Z",
          "shell.execute_reply.started": "2024-02-23T04:01:17.842283Z",
          "shell.execute_reply": "2024-02-23T04:01:17.871133Z"
        },
        "trusted": true,
        "id": "pNuvTBRiKYvR",
        "outputId": "5b851e11-a125-4783-88e8-338061b6fb6c"
      },
      "execution_count": null,
      "outputs": [
        {
          "execution_count": 4,
          "output_type": "execute_result",
          "data": {
            "text/plain": "                                              Article  \\\n0   Data analysis is the process of inspecting and...   \n1   The performance of a machine learning algorith...   \n2   You must have seen the news divided into categ...   \n3   When there are only two classes in a classific...   \n4   The Multinomial Naive Bayes is one of the vari...   \n6   Natural language processing or NLP is a subfie...   \n7   By using a third-party application or API to m...   \n8   Twitter is one of the most popular social medi...   \n9   The squid game is currently one of the most tr...   \n10  Computer Vision is one of the fields of Artifi...   \n11  Python is one of the most popular programming ...   \n12  API stands for Application Programming Interfa...   \n13  A voice recorder is found in every smartphone ...   \n14  Language detection is a natural language proce...   \n15  A Multilayer Perceptron or MLP is one of the s...   \n16  A neural network is a subset of machine learni...   \n17  Clustering is the task of identifying similar ...   \n18  Dictionaries are one of the most useful data s...   \n19  Health Insurance is a type of insurance that c...   \n20  The mean shift algorithm is a nonparametric cl...   \n21  The BIRCH is a Clustering algorithm in machine...   \n22  Agglomerative clustering is based on hierarchi...   \n23  DBSCAN stands for Density-Based Spatial Cluste...   \n24  The K-Means Clustering is a clustering algorit...   \n25  A scatter plot is one of the most useful ways ...   \n26  Recently, we have seen an increase of more tha...   \n27  Apple has just announced the date of its Septe...   \n28  Deep learning is a subset of machine learning ...   \n29  Many machine learning algorithms can be used t...   \n30  Almost every app or website you visit today sh...   \n31  There are so many algorithms in machine learni...   \n32  In machine learning, the Naive Bayes algorithm...   \n33  Swapping elements of a Python list is very sim...   \n\n                                                Title  \n0                   Best Books to Learn Data Analysis  \n1          Assumptions of Machine Learning Algorithms  \n2           News Classification with Machine Learning  \n3   Multiclass Classification Algorithms in Machin...  \n4         Multinomial Naive Bayes in Machine Learning  \n6                             Best Books to Learn NLP  \n7                Send Instagram Messages using Python  \n8      Pfizer Vaccine Sentiment Analysis using Python  \n9          Squid Game Sentiment Analysis using Python  \n10                Best Books to Learn Computer Vision  \n11                     Best Resources to Learn Python  \n12               Best Python Frameworks to Build APIs  \n13                        Voice Recorder using Python  \n14           Language Detection with Machine Learning  \n15          Multilayer Perceptron in Machine Learning  \n16                           Types of Neural Networks  \n17          Clustering Algorithms in Machine Learning  \n18  For Loop Over Keys and Values in a Python Dict...  \n19  Health Insurance Premium Prediction with Machi...  \n20          Mean Shift Clustering in Machine Learning  \n21               BIRCH Clustering in Machine Learning  \n22       Agglomerative Clustering in Machine Learning  \n23              DBSCAN Clustering in Machine Learning  \n24             K-Means Clustering in Machine Learning  \n25                 Animated Scatter Plot using Python  \n26  Tata Motors Stock Price Prediction with Machin...  \n27  Apple Stock Price Prediction with Machine Lear...  \n28                  Best Books to Learn Deep Learning  \n29                      Applications of Deep Learning  \n30             Introduction to Recommendation Systems  \n31  Use Cases of Different Machine Learning Algori...  \n32          Naive Bayes Algorithm in Machine Learning  \n33                        Swap Items of a Python List  ",
            "text/html": "<div>\n<style scoped>\n    .dataframe tbody tr th:only-of-type {\n        vertical-align: middle;\n    }\n\n    .dataframe tbody tr th {\n        vertical-align: top;\n    }\n\n    .dataframe thead th {\n        text-align: right;\n    }\n</style>\n<table border=\"1\" class=\"dataframe\">\n  <thead>\n    <tr style=\"text-align: right;\">\n      <th></th>\n      <th>Article</th>\n      <th>Title</th>\n    </tr>\n  </thead>\n  <tbody>\n    <tr>\n      <th>0</th>\n      <td>Data analysis is the process of inspecting and...</td>\n      <td>Best Books to Learn Data Analysis</td>\n    </tr>\n    <tr>\n      <th>1</th>\n      <td>The performance of a machine learning algorith...</td>\n      <td>Assumptions of Machine Learning Algorithms</td>\n    </tr>\n    <tr>\n      <th>2</th>\n      <td>You must have seen the news divided into categ...</td>\n      <td>News Classification with Machine Learning</td>\n    </tr>\n    <tr>\n      <th>3</th>\n      <td>When there are only two classes in a classific...</td>\n      <td>Multiclass Classification Algorithms in Machin...</td>\n    </tr>\n    <tr>\n      <th>4</th>\n      <td>The Multinomial Naive Bayes is one of the vari...</td>\n      <td>Multinomial Naive Bayes in Machine Learning</td>\n    </tr>\n    <tr>\n      <th>6</th>\n      <td>Natural language processing or NLP is a subfie...</td>\n      <td>Best Books to Learn NLP</td>\n    </tr>\n    <tr>\n      <th>7</th>\n      <td>By using a third-party application or API to m...</td>\n      <td>Send Instagram Messages using Python</td>\n    </tr>\n    <tr>\n      <th>8</th>\n      <td>Twitter is one of the most popular social medi...</td>\n      <td>Pfizer Vaccine Sentiment Analysis using Python</td>\n    </tr>\n    <tr>\n      <th>9</th>\n      <td>The squid game is currently one of the most tr...</td>\n      <td>Squid Game Sentiment Analysis using Python</td>\n    </tr>\n    <tr>\n      <th>10</th>\n      <td>Computer Vision is one of the fields of Artifi...</td>\n      <td>Best Books to Learn Computer Vision</td>\n    </tr>\n    <tr>\n      <th>11</th>\n      <td>Python is one of the most popular programming ...</td>\n      <td>Best Resources to Learn Python</td>\n    </tr>\n    <tr>\n      <th>12</th>\n      <td>API stands for Application Programming Interfa...</td>\n      <td>Best Python Frameworks to Build APIs</td>\n    </tr>\n    <tr>\n      <th>13</th>\n      <td>A voice recorder is found in every smartphone ...</td>\n      <td>Voice Recorder using Python</td>\n    </tr>\n    <tr>\n      <th>14</th>\n      <td>Language detection is a natural language proce...</td>\n      <td>Language Detection with Machine Learning</td>\n    </tr>\n    <tr>\n      <th>15</th>\n      <td>A Multilayer Perceptron or MLP is one of the s...</td>\n      <td>Multilayer Perceptron in Machine Learning</td>\n    </tr>\n    <tr>\n      <th>16</th>\n      <td>A neural network is a subset of machine learni...</td>\n      <td>Types of Neural Networks</td>\n    </tr>\n    <tr>\n      <th>17</th>\n      <td>Clustering is the task of identifying similar ...</td>\n      <td>Clustering Algorithms in Machine Learning</td>\n    </tr>\n    <tr>\n      <th>18</th>\n      <td>Dictionaries are one of the most useful data s...</td>\n      <td>For Loop Over Keys and Values in a Python Dict...</td>\n    </tr>\n    <tr>\n      <th>19</th>\n      <td>Health Insurance is a type of insurance that c...</td>\n      <td>Health Insurance Premium Prediction with Machi...</td>\n    </tr>\n    <tr>\n      <th>20</th>\n      <td>The mean shift algorithm is a nonparametric cl...</td>\n      <td>Mean Shift Clustering in Machine Learning</td>\n    </tr>\n    <tr>\n      <th>21</th>\n      <td>The BIRCH is a Clustering algorithm in machine...</td>\n      <td>BIRCH Clustering in Machine Learning</td>\n    </tr>\n    <tr>\n      <th>22</th>\n      <td>Agglomerative clustering is based on hierarchi...</td>\n      <td>Agglomerative Clustering in Machine Learning</td>\n    </tr>\n    <tr>\n      <th>23</th>\n      <td>DBSCAN stands for Density-Based Spatial Cluste...</td>\n      <td>DBSCAN Clustering in Machine Learning</td>\n    </tr>\n    <tr>\n      <th>24</th>\n      <td>The K-Means Clustering is a clustering algorit...</td>\n      <td>K-Means Clustering in Machine Learning</td>\n    </tr>\n    <tr>\n      <th>25</th>\n      <td>A scatter plot is one of the most useful ways ...</td>\n      <td>Animated Scatter Plot using Python</td>\n    </tr>\n    <tr>\n      <th>26</th>\n      <td>Recently, we have seen an increase of more tha...</td>\n      <td>Tata Motors Stock Price Prediction with Machin...</td>\n    </tr>\n    <tr>\n      <th>27</th>\n      <td>Apple has just announced the date of its Septe...</td>\n      <td>Apple Stock Price Prediction with Machine Lear...</td>\n    </tr>\n    <tr>\n      <th>28</th>\n      <td>Deep learning is a subset of machine learning ...</td>\n      <td>Best Books to Learn Deep Learning</td>\n    </tr>\n    <tr>\n      <th>29</th>\n      <td>Many machine learning algorithms can be used t...</td>\n      <td>Applications of Deep Learning</td>\n    </tr>\n    <tr>\n      <th>30</th>\n      <td>Almost every app or website you visit today sh...</td>\n      <td>Introduction to Recommendation Systems</td>\n    </tr>\n    <tr>\n      <th>31</th>\n      <td>There are so many algorithms in machine learni...</td>\n      <td>Use Cases of Different Machine Learning Algori...</td>\n    </tr>\n    <tr>\n      <th>32</th>\n      <td>In machine learning, the Naive Bayes algorithm...</td>\n      <td>Naive Bayes Algorithm in Machine Learning</td>\n    </tr>\n    <tr>\n      <th>33</th>\n      <td>Swapping elements of a Python list is very sim...</td>\n      <td>Swap Items of a Python List</td>\n    </tr>\n  </tbody>\n</table>\n</div>"
          },
          "metadata": {}
        }
      ]
    },
    {
      "cell_type": "code",
      "source": [
        "ls=list(np.arange(0,ds.shape[0],1))\n",
        "id_df = pd.DataFrame({'id': ls})"
      ],
      "metadata": {
        "execution": {
          "iopub.status.busy": "2024-02-22T08:50:03.927509Z",
          "iopub.execute_input": "2024-02-22T08:50:03.927878Z",
          "iopub.status.idle": "2024-02-22T08:50:03.93292Z",
          "shell.execute_reply.started": "2024-02-22T08:50:03.927851Z",
          "shell.execute_reply": "2024-02-22T08:50:03.932155Z"
        },
        "trusted": true,
        "id": "GscNpShLKYvR"
      },
      "execution_count": null,
      "outputs": []
    },
    {
      "cell_type": "code",
      "source": [
        "ds = pd.concat([ds, id_df], axis=1)"
      ],
      "metadata": {
        "execution": {
          "iopub.status.busy": "2024-02-22T08:50:04.77729Z",
          "iopub.execute_input": "2024-02-22T08:50:04.778318Z",
          "iopub.status.idle": "2024-02-22T08:50:04.784611Z",
          "shell.execute_reply.started": "2024-02-22T08:50:04.778278Z",
          "shell.execute_reply": "2024-02-22T08:50:04.783571Z"
        },
        "trusted": true,
        "id": "0jTi4hkEKYvS"
      },
      "execution_count": null,
      "outputs": []
    },
    {
      "cell_type": "code",
      "source": [
        "punctuation=list(string.punctuation)\n",
        "stop=set(stopwords.words('english'))"
      ],
      "metadata": {
        "execution": {
          "iopub.status.busy": "2024-02-22T08:50:05.713654Z",
          "iopub.execute_input": "2024-02-22T08:50:05.714445Z",
          "iopub.status.idle": "2024-02-22T08:50:05.720996Z",
          "shell.execute_reply.started": "2024-02-22T08:50:05.714405Z",
          "shell.execute_reply": "2024-02-22T08:50:05.720143Z"
        },
        "trusted": true,
        "id": "pHUkaXV3KYvS"
      },
      "execution_count": null,
      "outputs": []
    },
    {
      "cell_type": "code",
      "source": [
        "stop.add('one')\n",
        "stop.add('im')"
      ],
      "metadata": {
        "execution": {
          "iopub.status.busy": "2024-02-22T08:50:06.895674Z",
          "iopub.execute_input": "2024-02-22T08:50:06.896303Z",
          "iopub.status.idle": "2024-02-22T08:50:06.900992Z",
          "shell.execute_reply.started": "2024-02-22T08:50:06.896268Z",
          "shell.execute_reply": "2024-02-22T08:50:06.899777Z"
        },
        "trusted": true,
        "id": "JsU3Ha3JKYvS"
      },
      "execution_count": null,
      "outputs": []
    },
    {
      "cell_type": "code",
      "source": [
        "def cleaning(article):\n",
        "    article=article.lower()\n",
        "    stemmer=LancasterStemmer()\n",
        "    no_punc = []\n",
        "    words = article.split()\n",
        "    clean=[]\n",
        "    for word in words:\n",
        "        clean_word = ''.join(char for char in word if char not in punctuation)\n",
        "        no_punc.append(clean_word)\n",
        "    for word in no_punc:\n",
        "        if word not in stop:\n",
        "            clean.append(word)\n",
        "    clean_stem=[stemmer.stem(word) for word in clean]\n",
        "    return \" \".join(clean_stem)\n",
        ""
      ],
      "metadata": {
        "execution": {
          "iopub.status.busy": "2024-02-22T08:50:07.581956Z",
          "iopub.execute_input": "2024-02-22T08:50:07.582354Z",
          "iopub.status.idle": "2024-02-22T08:50:07.590572Z",
          "shell.execute_reply.started": "2024-02-22T08:50:07.582326Z",
          "shell.execute_reply": "2024-02-22T08:50:07.588342Z"
        },
        "trusted": true,
        "id": "9anEL6vbKYvT"
      },
      "execution_count": null,
      "outputs": []
    },
    {
      "cell_type": "code",
      "source": [
        "print(ds['Article'][13])\n",
        "cleaned=cleaning(ds['Article'][13])\n",
        "print(cleaned)"
      ],
      "metadata": {
        "execution": {
          "iopub.status.busy": "2024-02-22T08:50:09.331169Z",
          "iopub.execute_input": "2024-02-22T08:50:09.33181Z",
          "iopub.status.idle": "2024-02-22T08:50:09.340578Z",
          "shell.execute_reply.started": "2024-02-22T08:50:09.331767Z",
          "shell.execute_reply": "2024-02-22T08:50:09.33963Z"
        },
        "trusted": true,
        "id": "BeIzs9uhKYvT",
        "outputId": "b9244d72-f04e-47c5-e19a-0d646c9cb47c"
      },
      "execution_count": null,
      "outputs": [
        {
          "name": "stdout",
          "text": "A voice recorder is found in every smartphone and computer today. It is an application that is used to record sound and save it in a specific file format, which can be listened to and transferred to another device. If you want to know how to make a voice recorder using Python, this article is for you. In this article, I will walk you through how to make a voice recorder using Python.\nvoic record found every smartphon comput today apply us record sound sav spec fil form list transfer anoth dev want know mak voic record us python artic artic walk mak voic record us python\n",
          "output_type": "stream"
        }
      ]
    },
    {
      "cell_type": "code",
      "source": [
        "ds['Article']=ds['Article'].apply(cleaning)"
      ],
      "metadata": {
        "execution": {
          "iopub.status.busy": "2024-02-22T08:50:10.926443Z",
          "iopub.execute_input": "2024-02-22T08:50:10.92701Z",
          "iopub.status.idle": "2024-02-22T08:50:10.971461Z",
          "shell.execute_reply.started": "2024-02-22T08:50:10.926979Z",
          "shell.execute_reply": "2024-02-22T08:50:10.970371Z"
        },
        "trusted": true,
        "id": "VmyBePAVKYvT"
      },
      "execution_count": null,
      "outputs": []
    },
    {
      "cell_type": "code",
      "source": [
        "vectorizer=CountVectorizer()\n",
        "vectorized=vectorizer.fit_transform(ds['Article'])"
      ],
      "metadata": {
        "execution": {
          "iopub.status.busy": "2024-02-22T08:50:12.418939Z",
          "iopub.execute_input": "2024-02-22T08:50:12.419354Z",
          "iopub.status.idle": "2024-02-22T08:50:12.434216Z",
          "shell.execute_reply.started": "2024-02-22T08:50:12.419321Z",
          "shell.execute_reply": "2024-02-22T08:50:12.433151Z"
        },
        "trusted": true,
        "id": "00BwysVnKYvU"
      },
      "execution_count": null,
      "outputs": []
    },
    {
      "cell_type": "code",
      "source": [
        "joblib.dump(vectorizer, '/kaggle/working/count_vectorizer.pkl')"
      ],
      "metadata": {
        "execution": {
          "iopub.status.busy": "2024-02-21T05:21:13.083506Z",
          "iopub.execute_input": "2024-02-21T05:21:13.083884Z",
          "iopub.status.idle": "2024-02-21T05:21:13.097443Z",
          "shell.execute_reply.started": "2024-02-21T05:21:13.083854Z",
          "shell.execute_reply": "2024-02-21T05:21:13.096318Z"
        },
        "trusted": true,
        "id": "ZFCpsQH3KYvU"
      },
      "execution_count": null,
      "outputs": []
    },
    {
      "cell_type": "code",
      "source": [
        "cos_sim_matrix = cosine_similarity(vectorized)"
      ],
      "metadata": {
        "execution": {
          "iopub.status.busy": "2024-02-22T08:50:15.437819Z",
          "iopub.execute_input": "2024-02-22T08:50:15.438924Z",
          "iopub.status.idle": "2024-02-22T08:50:15.448859Z",
          "shell.execute_reply.started": "2024-02-22T08:50:15.438875Z",
          "shell.execute_reply": "2024-02-22T08:50:15.44791Z"
        },
        "trusted": true,
        "id": "LmFKcmQYKYvU"
      },
      "execution_count": null,
      "outputs": []
    },
    {
      "cell_type": "code",
      "source": [
        "def similar(article_id=None,arr=None):\n",
        "    if (article_id is not None and arr is not None) or (article_id is None and arr is None):\n",
        "        print(\"error\")\n",
        "    elif article_id is not None:\n",
        "        article=cos_sim_matrix[article_id]\n",
        "    elif arr is not None:\n",
        "        article = arr[0]\n",
        "    sorted_indices = np.argsort(article)[::-1]\n",
        "    most_similar=[(article[i], i) for i in sorted_indices]\n",
        "    similar_ls=[]\n",
        "    for i in range(1,6):\n",
        "        article_id=most_similar[i][1]\n",
        "        title = ds.loc[ds['id'] == article_id, 'Title'].values[0]\n",
        "        similar_ls.append(title)\n",
        "    return similar_ls"
      ],
      "metadata": {
        "execution": {
          "iopub.status.busy": "2024-02-22T08:50:23.575388Z",
          "iopub.execute_input": "2024-02-22T08:50:23.576343Z",
          "iopub.status.idle": "2024-02-22T08:50:23.583259Z",
          "shell.execute_reply.started": "2024-02-22T08:50:23.576305Z",
          "shell.execute_reply": "2024-02-22T08:50:23.582406Z"
        },
        "trusted": true,
        "id": "7uPeYrKJKYvU"
      },
      "execution_count": null,
      "outputs": []
    },
    {
      "cell_type": "code",
      "source": [
        "print('Article Name',ds.loc[ds['id'] == 11, 'Title'].values)\n",
        "print('Most similar articles:')\n",
        "print(similar(11))"
      ],
      "metadata": {
        "execution": {
          "iopub.status.busy": "2024-02-22T08:50:25.94896Z",
          "iopub.execute_input": "2024-02-22T08:50:25.949362Z",
          "iopub.status.idle": "2024-02-22T08:50:25.961025Z",
          "shell.execute_reply.started": "2024-02-22T08:50:25.949332Z",
          "shell.execute_reply": "2024-02-22T08:50:25.959909Z"
        },
        "trusted": true,
        "id": "V9VNnJuaKYvU",
        "outputId": "16030283-b62d-422e-d9ba-dd40ed7567ed"
      },
      "execution_count": null,
      "outputs": [
        {
          "name": "stdout",
          "text": "Article Name ['Best Resources to Learn Python']\nMost similar articles:\n['For Loop Over Keys and Values in a Python Dictionary', 'Best Books to Learn Data Analysis', 'Language Detection with Machine Learning', 'Best Python Frameworks to Build APIs', 'Swap Items of a Python List']\n",
          "output_type": "stream"
        }
      ]
    }
  ]
}